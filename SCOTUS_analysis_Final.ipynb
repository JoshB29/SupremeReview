{
 "cells": [
  {
   "cell_type": "markdown",
   "metadata": {},
   "source": [
    "# Analyze a Corpus of Court of Appeals Decisions to Determine whether the Supreme Court will hear it"
   ]
  },
  {
   "cell_type": "code",
   "execution_count": 2,
   "metadata": {
    "collapsed": false
   },
   "outputs": [],
   "source": [
    "#!/usr/bin/python\n",
    "\n",
    "\n",
    "#This script analyzes court of appeals decisions to predict whether, if a litigant petitions the Supreme Court\n",
    "#of the United States (SCOTUS) to hear the case (i.e. grant certiorari), whether SCOTUS will grant a hearing or not. \n",
    "#Usage: python ~/Location_of_script/SCOTUS_analysis_final.py\n",
    "\n",
    "#This script takes in a dataframe \n",
    "import sqlite3\n",
    "from bs4 import BeautifulSoup\n",
    "import re\n",
    "import sys\n",
    "import math\n",
    "import os\n",
    "import optparse\n",
    "import json\n",
    "import time\n",
    "import matplotlib.pylab as plt\n",
    "import requests\n",
    "import pandas as pandas\n",
    "import numpy\n",
    "import itertools\n",
    "from sklearn.linear_model import LogisticRegression\n",
    "from sklearn.datasets import load_iris\n",
    "from sklearn import metrics\n",
    "from sklearn.ensemble import VotingClassifier\n",
    "from sklearn.model_selection import RepeatedStratifiedKFold\n",
    "\n",
    "import sklearn\n",
    "import pickle\n",
    "import random\n",
    "import math\n",
    "import seaborn\n",
    "import statistics\n",
    "import nltk\n",
    "#import library of functions. Change the path to wherever you keep the functions\n",
    "exec(open(\"/Users/joshuabroyde/Scripts/Modules/myFunctions.py\").read())\n",
    "\n"
   ]
  },
  {
   "cell_type": "code",
   "execution_count": 3,
   "metadata": {
    "collapsed": true
   },
   "outputs": [],
   "source": [
    "#Read in the dataframe that contains the Decision ID, the label (was it heard of not), and location of the decision\n",
    "df=readdataframe_header(\"/Users/joshuabroyde/Projects/Supreme_Court_Data/All_Decisions/SCOTUS_certiorari.tsv\")\n",
    "#for now, exclue cases with a column labal=2, these are remanded cases\n",
    "df=df[df.label != 2]\n",
    "#df[df[\"label\"].isnull()]\n",
    "df=df.dropna()\n"
   ]
  },
  {
   "cell_type": "code",
   "execution_count": 4,
   "metadata": {
    "collapsed": false
   },
   "outputs": [
    {
     "data": {
      "text/html": [
       "<div>\n",
       "<style>\n",
       "    .dataframe thead tr:only-child th {\n",
       "        text-align: right;\n",
       "    }\n",
       "\n",
       "    .dataframe thead th {\n",
       "        text-align: left;\n",
       "    }\n",
       "\n",
       "    .dataframe tbody tr th {\n",
       "        vertical-align: top;\n",
       "    }\n",
       "</style>\n",
       "<table border=\"1\" class=\"dataframe\">\n",
       "  <thead>\n",
       "    <tr style=\"text-align: right;\">\n",
       "      <th></th>\n",
       "      <th>ID</th>\n",
       "      <th>label</th>\n",
       "      <th>file_location</th>\n",
       "    </tr>\n",
       "  </thead>\n",
       "  <tbody>\n",
       "    <tr>\n",
       "      <th>1</th>\n",
       "      <td>81423</td>\n",
       "      <td>1</td>\n",
       "      <td>/Users/joshuabroyde/Projects/Supreme_Court_Dat...</td>\n",
       "    </tr>\n",
       "    <tr>\n",
       "      <th>2</th>\n",
       "      <td>81438</td>\n",
       "      <td>1</td>\n",
       "      <td>/Users/joshuabroyde/Projects/Supreme_Court_Dat...</td>\n",
       "    </tr>\n",
       "    <tr>\n",
       "      <th>3</th>\n",
       "      <td>81448</td>\n",
       "      <td>1</td>\n",
       "      <td>/Users/joshuabroyde/Projects/Supreme_Court_Dat...</td>\n",
       "    </tr>\n",
       "    <tr>\n",
       "      <th>4</th>\n",
       "      <td>91088</td>\n",
       "      <td>1</td>\n",
       "      <td>/Users/joshuabroyde/Projects/Supreme_Court_Dat...</td>\n",
       "    </tr>\n",
       "    <tr>\n",
       "      <th>5</th>\n",
       "      <td>911328</td>\n",
       "      <td>1</td>\n",
       "      <td>/Users/joshuabroyde/Projects/Supreme_Court_Dat...</td>\n",
       "    </tr>\n",
       "    <tr>\n",
       "      <th>6</th>\n",
       "      <td>9115</td>\n",
       "      <td>1</td>\n",
       "      <td>/Users/joshuabroyde/Projects/Supreme_Court_Dat...</td>\n",
       "    </tr>\n",
       "    <tr>\n",
       "      <th>7</th>\n",
       "      <td>91156</td>\n",
       "      <td>1</td>\n",
       "      <td>/Users/joshuabroyde/Projects/Supreme_Court_Dat...</td>\n",
       "    </tr>\n",
       "    <tr>\n",
       "      <th>8</th>\n",
       "      <td>91205</td>\n",
       "      <td>1</td>\n",
       "      <td>/Users/joshuabroyde/Projects/Supreme_Court_Dat...</td>\n",
       "    </tr>\n",
       "    <tr>\n",
       "      <th>9</th>\n",
       "      <td>91273</td>\n",
       "      <td>1</td>\n",
       "      <td>/Users/joshuabroyde/Projects/Supreme_Court_Dat...</td>\n",
       "    </tr>\n",
       "    <tr>\n",
       "      <th>10</th>\n",
       "      <td>91279</td>\n",
       "      <td>1</td>\n",
       "      <td>/Users/joshuabroyde/Projects/Supreme_Court_Dat...</td>\n",
       "    </tr>\n",
       "  </tbody>\n",
       "</table>\n",
       "</div>"
      ],
      "text/plain": [
       "        ID  label                                      file_location\n",
       "1    81423      1  /Users/joshuabroyde/Projects/Supreme_Court_Dat...\n",
       "2    81438      1  /Users/joshuabroyde/Projects/Supreme_Court_Dat...\n",
       "3    81448      1  /Users/joshuabroyde/Projects/Supreme_Court_Dat...\n",
       "4    91088      1  /Users/joshuabroyde/Projects/Supreme_Court_Dat...\n",
       "5   911328      1  /Users/joshuabroyde/Projects/Supreme_Court_Dat...\n",
       "6     9115      1  /Users/joshuabroyde/Projects/Supreme_Court_Dat...\n",
       "7    91156      1  /Users/joshuabroyde/Projects/Supreme_Court_Dat...\n",
       "8    91205      1  /Users/joshuabroyde/Projects/Supreme_Court_Dat...\n",
       "9    91273      1  /Users/joshuabroyde/Projects/Supreme_Court_Dat...\n",
       "10   91279      1  /Users/joshuabroyde/Projects/Supreme_Court_Dat..."
      ]
     },
     "execution_count": 4,
     "metadata": {},
     "output_type": "execute_result"
    }
   ],
   "source": [
    "#Here is what the input dataframe looks like; the first column is the ID of the case, \n",
    "#the second column is whether it was granted cert (1 for yes, 0 for no) and the file location\n",
    "df.loc()[1:10,]"
   ]
  },
  {
   "cell_type": "markdown",
   "metadata": {},
   "source": [
    "### Extract Basic Features from the Decision Texts"
   ]
  },
  {
   "cell_type": "code",
   "execution_count": 5,
   "metadata": {
    "collapsed": false
   },
   "outputs": [],
   "source": [
    "#create feature data frame, that has the same number of rows as the first data frame\n",
    "df_features = pandas.DataFrame(index=df.index)\n",
    "#start adding features row by row\n",
    "df_features[\"Decision_length\"] = np.nan\n",
    "#get the length of the decision\n",
    "for index,row in df.iterrows():\n",
    "\tfile_location=row[2]\n",
    "\t#print(file_location)\n",
    "\t#get decision length\n",
    "\tf= open(file_location, 'r',encoding=\"ISO-8859-1\").read()\n",
    "\t#word count\n",
    "\tdecision_length=len(f.split())\n",
    "\tdf_features.loc[index] = pandas.Series({\"Decision_length\" : decision_length})\n",
    "\t#print(str(index))\n",
    "\n",
    "#does the opinion have the word \"disagree\", indicating possible disagreement with precident. 1 means it uses the phrase\n",
    "df_features[\"disagree\"] = np.nan\n",
    "for index,row in df.iterrows():\n",
    "\tfile_location=row[2]\n",
    "\t#print(file_location)\n",
    "\tf= open(file_location, 'r',encoding=\"ISO-8859-1\").read()\t#word \n",
    "\tm=re.search(\"disagree\",f)\n",
    "\tadd=0\n",
    "\tif m:\n",
    "\t\tadd=1\n",
    "\tdf_features.loc[index,\"disagree\"] = add\n",
    "\t#print(str(index))\n",
    "#does the opinion have the word \"sister \" in it, indicating potential disagreement with that court (refered to commonly as sister court. 1 means it uses the phrase\n",
    "df_features[\"sister\"] = np.nan\n",
    "for index,row in df.iterrows():\n",
    "\tfile_location=row[2]\n",
    "\t#print(file_location)\n",
    "\tf= open(file_location, 'r',encoding=\"ISO-8859-1\").read()\t#word \n",
    "\tm=re.search(\"sister\",f)\n",
    "\tadd=0\n",
    "\tif m:\n",
    "\t\tadd=1\n",
    "\tdf_features.loc[index,\"sister\"] = add\n",
    "\t#print(str(index))\n",
    "    \n",
    "#does the opinion have the word \"dissent \" in it, indicating split in the court?\n",
    "df_features[\"dissent_others\"] = np.nan\n",
    "for index,row in df.iterrows():\n",
    "\tfile_location=row[2]\n",
    "\t#print(file_location)\n",
    "\tf= open(file_location, 'r',encoding=\"ISO-8859-1\").read()\t#word \n",
    "\tm=re.search(\"dissent\",f)\n",
    "\tadd=0\n",
    "\tif m:\n",
    "\t\tadd=1\n",
    "\tdf_features.loc[index,\"dissent_others\"] = add\n",
    "\t#print(str(index))\n",
    "\n",
    "#save the original features\n",
    "df_features_original=df_features\n"
   ]
  },
  {
   "cell_type": "code",
   "execution_count": 6,
   "metadata": {
    "collapsed": false
   },
   "outputs": [
    {
     "data": {
      "text/html": [
       "<div>\n",
       "<style>\n",
       "    .dataframe thead tr:only-child th {\n",
       "        text-align: right;\n",
       "    }\n",
       "\n",
       "    .dataframe thead th {\n",
       "        text-align: left;\n",
       "    }\n",
       "\n",
       "    .dataframe tbody tr th {\n",
       "        vertical-align: top;\n",
       "    }\n",
       "</style>\n",
       "<table border=\"1\" class=\"dataframe\">\n",
       "  <thead>\n",
       "    <tr style=\"text-align: right;\">\n",
       "      <th></th>\n",
       "      <th>Decision_length</th>\n",
       "      <th>disagree</th>\n",
       "      <th>sister</th>\n",
       "      <th>dissent_others</th>\n",
       "    </tr>\n",
       "  </thead>\n",
       "  <tbody>\n",
       "    <tr>\n",
       "      <th>1</th>\n",
       "      <td>4441.0</td>\n",
       "      <td>0.0</td>\n",
       "      <td>0.0</td>\n",
       "      <td>0.0</td>\n",
       "    </tr>\n",
       "    <tr>\n",
       "      <th>2</th>\n",
       "      <td>9348.0</td>\n",
       "      <td>0.0</td>\n",
       "      <td>0.0</td>\n",
       "      <td>0.0</td>\n",
       "    </tr>\n",
       "    <tr>\n",
       "      <th>3</th>\n",
       "      <td>8773.0</td>\n",
       "      <td>1.0</td>\n",
       "      <td>1.0</td>\n",
       "      <td>0.0</td>\n",
       "    </tr>\n",
       "    <tr>\n",
       "      <th>4</th>\n",
       "      <td>22493.0</td>\n",
       "      <td>1.0</td>\n",
       "      <td>1.0</td>\n",
       "      <td>1.0</td>\n",
       "    </tr>\n",
       "    <tr>\n",
       "      <th>5</th>\n",
       "      <td>3839.0</td>\n",
       "      <td>1.0</td>\n",
       "      <td>0.0</td>\n",
       "      <td>1.0</td>\n",
       "    </tr>\n",
       "    <tr>\n",
       "      <th>6</th>\n",
       "      <td>6221.0</td>\n",
       "      <td>0.0</td>\n",
       "      <td>0.0</td>\n",
       "      <td>0.0</td>\n",
       "    </tr>\n",
       "    <tr>\n",
       "      <th>7</th>\n",
       "      <td>8149.0</td>\n",
       "      <td>1.0</td>\n",
       "      <td>0.0</td>\n",
       "      <td>0.0</td>\n",
       "    </tr>\n",
       "    <tr>\n",
       "      <th>8</th>\n",
       "      <td>4057.0</td>\n",
       "      <td>1.0</td>\n",
       "      <td>0.0</td>\n",
       "      <td>0.0</td>\n",
       "    </tr>\n",
       "    <tr>\n",
       "      <th>9</th>\n",
       "      <td>7530.0</td>\n",
       "      <td>0.0</td>\n",
       "      <td>0.0</td>\n",
       "      <td>1.0</td>\n",
       "    </tr>\n",
       "    <tr>\n",
       "      <th>10</th>\n",
       "      <td>4738.0</td>\n",
       "      <td>1.0</td>\n",
       "      <td>0.0</td>\n",
       "      <td>0.0</td>\n",
       "    </tr>\n",
       "  </tbody>\n",
       "</table>\n",
       "</div>"
      ],
      "text/plain": [
       "    Decision_length  disagree  sister  dissent_others\n",
       "1            4441.0       0.0     0.0             0.0\n",
       "2            9348.0       0.0     0.0             0.0\n",
       "3            8773.0       1.0     1.0             0.0\n",
       "4           22493.0       1.0     1.0             1.0\n",
       "5            3839.0       1.0     0.0             1.0\n",
       "6            6221.0       0.0     0.0             0.0\n",
       "7            8149.0       1.0     0.0             0.0\n",
       "8            4057.0       1.0     0.0             0.0\n",
       "9            7530.0       0.0     0.0             1.0\n",
       "10           4738.0       1.0     0.0             0.0"
      ]
     },
     "execution_count": 6,
     "metadata": {},
     "output_type": "execute_result"
    }
   ],
   "source": [
    "#This is what the feature matrix looks like at this point in the analysis\n",
    "df_features.loc()[1:10,]"
   ]
  },
  {
   "cell_type": "markdown",
   "metadata": {},
   "source": [
    "### Now we will extract all unigrams from the texts and perform TF-IDF on the resulting unigrams to extract normalized word frequencies in the texts and use that feature matrix in a logistic regression classifier."
   ]
  },
  {
   "cell_type": "code",
   "execution_count": 7,
   "metadata": {
    "collapsed": true
   },
   "outputs": [],
   "source": [
    "#get all unigrams from the text\n",
    "all_text=\"\"\n",
    "for index,row in df.iterrows():\n",
    "    file_location=row[2]\n",
    "    #print(file_location)\n",
    "    f= open(file_location, 'r',encoding=\"ISO-8859-1\").read()\t#word \n",
    "    text =f\n",
    "    all_text=all_text+text\n",
    "   #print(index)\n",
    "\n",
    "#get unigram word tokens\n",
    "all_text_list=list()\n",
    "for index,row in df.iterrows():\n",
    "    file_location=row[2]\n",
    "    #print(file_location)\n",
    "    f= open(file_location, 'r',encoding=\"ISO-8859-1\").read()\t#word \n",
    "    text =f\n",
    "    all_text_list.append(text)\n",
    "    #print(index)\n",
    "\n"
   ]
  },
  {
   "cell_type": "code",
   "execution_count": 8,
   "metadata": {
    "collapsed": false
   },
   "outputs": [],
   "source": [
    "#perform TF-IDF on the corpus of the text. This takes a few minues\n",
    "vectorizer = sklearn.feature_extraction.text.TfidfVectorizer(\n",
    "                        use_idf=True, \n",
    "                        norm=None, \n",
    "                        smooth_idf=False, \n",
    "                        sublinear_tf=False, \n",
    "                        binary=False,\n",
    "                        min_df=1, max_df=1.0, max_features=None,\n",
    "                        strip_accents='unicode', \n",
    "                        ngram_range=(1,1), preprocessor=None,              stop_words=None, tokenizer=None, vocabulary=None\n",
    "             )\n",
    "\n",
    "tf_idf_result = vectorizer.fit_transform(all_text_list)\n",
    "idf = vectorizer.idf_\n",
    "#print (dict(zip(vectorizer.get_feature_names(), idf)))\n",
    "#Get the scores from TF-IDF\n",
    "tf_idf_scores=dict(zip(vectorizer.get_feature_names(), idf))\n",
    "\n"
   ]
  },
  {
   "cell_type": "code",
   "execution_count": 9,
   "metadata": {
    "collapsed": false
   },
   "outputs": [],
   "source": [
    "#convert the tfidf resultsto the feature dataframe\n",
    "tf_idf_matrix=tf_idf_result.todense()\n",
    "df_tfidf=pandas.DataFrame(tf_idf_matrix)\n",
    "\n",
    "#append these features to the feature matrix\n",
    "df_tfidf.columns=vectorizer.get_feature_names()\n",
    "#frames=[df_features,df_tfidf]\n",
    "\n",
    "\n",
    "#now append the TF-IDF features to the original features\n",
    "df_features=df_features_original.join(df_tfidf,lsuffix='_left')\n",
    "\n",
    "#Filter features for those that have numbers and those that have less than 10 letters, \n",
    "all_features=df_features.columns\n",
    "\n",
    "#only keep features at least in a certain number of documents (i.e. number threshold)\n",
    "\n",
    "nums_in_columns=df_features.astype(bool).sum(axis=0)\n",
    "number_threshold=2000 #2000 documents\n",
    "features_at_least_threshold=nums_in_columns[nums_in_columns >= number_threshold]\n",
    "features_at_least_threshold_id=features_at_least_threshold.index\n",
    "features_to_keep=[\"Decision_length\",\"sister\",\"dissent_others\"]\n",
    "for i in features_at_least_threshold_id:\n",
    "    flag=1\n",
    "    \n",
    "    #remove less than 10 letters, to decrease size of feature matrix\n",
    "    if len(i)<=10:\n",
    "        flag=0\n",
    "    #no digits\n",
    "    m=re.search(r'\\d',i)\n",
    "    if m:\n",
    "        flag=0\n",
    "    \n",
    "    if flag==1:\n",
    "    \tfeatures_to_keep.append(i)\n",
    "    else:\n",
    "    \tpass\n",
    "    #print (i)\n",
    "    \n",
    "#only keep features that passed the feature filter threshold\n",
    "features_to_keep=unique(sorted(features_to_keep))\n",
    "df_features_full=df_features\n",
    "df_features=df_features[features_to_keep]\n"
   ]
  },
  {
   "cell_type": "code",
   "execution_count": 10,
   "metadata": {
    "collapsed": false
   },
   "outputs": [],
   "source": [
    "#Do logistic regression on the dataset to come up with a predictive model\n",
    "df_predictions=pandas.DataFrame(index=df.index)\n",
    "df_predictions[\"average_score\"]=np.nan\n",
    "\n",
    "#df_predictions[\"average_score\"]=df_predictions[\"average_score\"]/number_iterations\n",
    "\n",
    "logistic=sklearn.linear_model.LogisticRegressionCV(penalty='l2',cv=RepeatedStratifiedKFold(n_splits=10, n_repeats=10))\n",
    "model=logistic.fit(df_features,df[\"label\"])\n",
    "predicted=model.predict_proba(df_features)\n",
    "just_positive_probability=[row[1] for row in predicted]\n",
    "df_predictions[\"average_score\"]=just_positive_probability\n",
    "\n",
    "#save the predictions and the model\n",
    "df_predictions.to_csv(\"output_predictions.csv\",sep=\"\\t\")\n",
    "df.to_csv(\"original_datafram.csv\",sep=\"\\t\")\n",
    "\n"
   ]
  },
  {
   "cell_type": "code",
   "execution_count": 39,
   "metadata": {
    "collapsed": false
   },
   "outputs": [
    {
     "name": "stdout",
     "output_type": "stream",
     "text": [
      "0.80\n"
     ]
    },
    {
     "name": "stderr",
     "output_type": "stream",
     "text": [
      "/Users/joshuabroyde/anaconda/lib/python3.6/site-packages/matplotlib/figure.py:403: UserWarning:\n",
      "\n",
      "matplotlib is currently using a non-GUI backend, so cannot show the figure\n",
      "\n"
     ]
    },
    {
     "data": {
      "image/png": "[encoded data removed]",
      "text/plain": [
       "<matplotlib.figure.Figure at 0x118414a20>"
      ]
     },
     "metadata": {},
     "output_type": "display_data"
    },
    {
     "data": {
      "image/png": "[encoded data removed]",
      "text/plain": [
       "<matplotlib.figure.Figure at 0x11a641828>"
      ]
     },
     "metadata": {},
     "output_type": "display_data"
    },
    {
     "data": {
      "image/png": "[encoded data removed]",
      "text/plain": [
       "<matplotlib.figure.Figure at 0x119fdfa58>"
      ]
     },
     "metadata": {},
     "output_type": "display_data"
    }
   ],
   "source": [
    "#Now plot roc curves to measure performance\n",
    "fpr, tpr, blah=metrics.roc_curve(y_score=df_predictions[\"average_score\"],y_true=df[\"label\"],pos_label=1)\n",
    "roc_auc = metrics.auc(fpr, tpr)\n",
    "print(str(roc_auc)[:4])\n",
    "#print(roc_auc)\n",
    "lw = 2\n",
    "fig=plt.figure()\n",
    "plt.plot(fpr, tpr, color='darkorange',\n",
    "         lw=lw, label='Classifier Performance (area = %0.2f)'% roc_auc)\n",
    "plt.plot([0, 1], [0, 1], color='navy', lw=lw, linestyle='--')\n",
    "plt.xlim([0.0, 1.0])\n",
    "plt.ylim([0.0, 1.05])\n",
    "plt.xlabel('False Positive Rate')\n",
    "plt.ylabel('True Positive Rate')\n",
    "plt.title('Receiver operating characteristic example')\n",
    "plt.legend(loc=\"lower right\")\n",
    "#plt.show()\n",
    "fig.savefig('ROCplot.pdf')\n",
    "fig.show()\n",
    "#Normalize the scores so that 2 is twice above random, 1, is random etc.\n",
    "mean_score=statistics.mean(df_predictions[\"average_score\"])\n",
    "df_predictions[\"mean_normalized\"]=np.nan\n",
    "#plot histogram of predictions \n",
    "true_index=df[df.label == 1].index\n",
    "df_true_only=df_predictions.iloc[true_index,]\n",
    "#df_true_only=df_predictions.iloc[true_index,]\n",
    "df_true_only = df_true_only.assign(mean_normalized=np.nan)\n",
    "df_predictions = df_predictions.assign(mean_normalized=np.nan)\n",
    "df_predictions.loc[:,\"mean_normalized\"]=df_predictions.loc[:,\"average_score\"]\n",
    "df_true_only.loc[:,\"mean_normalized\"]=df_true_only.loc[:,\"average_score\"]\n",
    "# df_true_only\n",
    "\n",
    "\n",
    "fig=plt.figure()\n",
    "plt.hist(np.clip(df_true_only[\"average_score\"],0,10),label = 'Granted',bins=50,normed=True)\n",
    "plt.hist(np.clip(df_predictions[\"average_score\"],0,10),label = 'Random',bins=50,normed=True,alpha=0.7)\n",
    "#plt.xlim([0,10])\n",
    "#plt.legend()\n",
    "plt.plot()\n",
    "plt.show()\n",
    "\n",
    "#plt.legend()\n",
    "fig.savefig('HISTplot.pdf')\n",
    "\n",
    "#Now get feature importance:\n",
    "\n",
    "data_frame_of_feature_importance=pandas.DataFrame(np.std(df_features,0)*numpy.array(model.coef_[0]))\n",
    "#print(np.std(df_features, 0)*model.coef_)\n",
    "data_frame_of_feature_importance=data_frame_of_feature_importance.sort_values([0],ascending=False)\n",
    "\n",
    " \n",
    "#A=data_frame_of_feature_importance[0].tolist()\n",
    "\n",
    "#X = range(3)\n",
    "\n",
    "A=data_frame_of_feature_importance[0].tolist()\n",
    "#plt.bar(A,height=range(len(A)),color = 'skyblue')\n",
    "fig=plt.figure(figsize=(10, 10))\n",
    "seaborn.barplot(A,data_frame_of_feature_importance.index)\n",
    "fig.savefig('BARplot.pdf')\n",
    "\n",
    "\n",
    "#save the tfidf corpus, features and model\n",
    "pickle.dump(tf_idf_result, open(\"tf_idf_result.txt\", 'wb'))\n",
    "pickle.dump(df_features, open(\"features_to_use.txt\", 'wb'))\n",
    "#save the model itself\n",
    "filename = 'finalized_model.sav'\n",
    "pickle.dump(model, open(filename, 'wb'))\n",
    "\n",
    "\n",
    "\n",
    "\n"
   ]
  }
 ],
 "metadata": {
  "kernelspec": {
   "display_name": "Python 3",
   "language": "python",
   "name": "python3"
  },
  "language_info": {
   "codemirror_mode": {
    "name": "ipython",
    "version": 3
   },
   "file_extension": ".py",
   "mimetype": "text/x-python",
   "name": "python",
   "nbconvert_exporter": "python",
   "pygments_lexer": "ipython3",
   "version": "3.6.0"
  },
  "varInspector": {
   "cols": {
    "lenName": 16,
    "lenType": 16,
    "lenVar": 40
   },
   "kernels_config": {
    "python": {
     "delete_cmd_postfix": "",
     "delete_cmd_prefix": "del ",
     "library": "var_list.py",
     "varRefreshCmd": "print(var_dic_list())"
    },
    "r": {
     "delete_cmd_postfix": ") ",
     "delete_cmd_prefix": "rm(",
     "library": "var_list.r",
     "varRefreshCmd": "cat(var_dic_list()) "
    }
   },
   "types_to_exclude": [
    "module",
    "function",
    "builtin_function_or_method",
    "instance",
    "_Feature"
   ],
   "window_display": false
  }
 },
 "nbformat": 4,
 "nbformat_minor": 2
}
